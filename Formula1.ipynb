{
  "nbformat": 4,
  "nbformat_minor": 0,
  "metadata": {
    "colab": {
      "provenance": [],
      "toc_visible": true,
      "include_colab_link": true
    },
    "kernelspec": {
      "name": "python3",
      "display_name": "Python 3"
    },
    "language_info": {
      "name": "python"
    }
  },
  "cells": [
    {
      "cell_type": "markdown",
      "metadata": {
        "id": "view-in-github",
        "colab_type": "text"
      },
      "source": [
        "<a href=\"https://colab.research.google.com/github/Stephannie29/Analisis/blob/main/Formula1.ipynb\" target=\"_parent\"><img src=\"https://colab.research.google.com/assets/colab-badge.svg\" alt=\"Open In Colab\"/></a>"
      ]
    },
    {
      "cell_type": "code",
      "execution_count": null,
      "metadata": {
        "colab": {
          "base_uri": "https://localhost:8080/"
        },
        "id": "j0jmzNzwheWT",
        "outputId": "b363b630-20dd-4bfd-9464-4cb776ca8033"
      },
      "outputs": [
        {
          "output_type": "stream",
          "name": "stdout",
          "text": [
            "                Driver     Nationality                         Seasons  \\\n",
            "0          Carlo Abate           Italy                    [1962, 1963]   \n",
            "1     George Abecassis  United Kingdom                    [1951, 1952]   \n",
            "2        Kenny Acheson  United Kingdom                    [1983, 1985]   \n",
            "3    Andrea de Adamich           Italy  [1968, 1970, 1971, 1972, 1973]   \n",
            "4       Philippe Adams         Belgium                          [1994]   \n",
            "..                 ...             ...                             ...   \n",
            "863      Emilio Zapico           Spain                          [1976]   \n",
            "864        Zhou Guanyu           China                          [2022]   \n",
            "865      Ricardo Zonta          Brazil  [1999, 2000, 2001, 2004, 2005]   \n",
            "866        Renzo Zorzi           Italy              [1975, 1976, 1977]   \n",
            "867     Ricardo Zunino       Argentina              [1979, 1980, 1981]   \n",
            "\n",
            "     Championships  Race_Entries  Race_Starts  Pole_Positions  Race_Wins  \\\n",
            "0              0.0           3.0          0.0             0.0        0.0   \n",
            "1              0.0           2.0          2.0             0.0        0.0   \n",
            "2              0.0          10.0          3.0             0.0        0.0   \n",
            "3              0.0          36.0         30.0             0.0        0.0   \n",
            "4              0.0           2.0          2.0             0.0        0.0   \n",
            "..             ...           ...          ...             ...        ...   \n",
            "863            0.0           1.0          0.0             0.0        0.0   \n",
            "864            0.0          23.0         23.0             0.0        0.0   \n",
            "865            0.0          37.0         36.0             0.0        0.0   \n",
            "866            0.0           7.0          7.0             0.0        0.0   \n",
            "867            0.0          11.0         10.0             0.0        0.0   \n",
            "\n",
            "     Podiums  Fastest_Laps  ...  Championship Years  Decade Pole_Rate  \\\n",
            "0        0.0           0.0  ...                 NaN    1960       0.0   \n",
            "1        0.0           0.0  ...                 NaN    1950       0.0   \n",
            "2        0.0           0.0  ...                 NaN    1980       0.0   \n",
            "3        0.0           0.0  ...                 NaN    1970       0.0   \n",
            "4        0.0           0.0  ...                 NaN    1990       0.0   \n",
            "..       ...           ...  ...                 ...     ...       ...   \n",
            "863      0.0           0.0  ...                 NaN    1980       0.0   \n",
            "864      0.0           2.0  ...                 NaN    2020       0.0   \n",
            "865      0.0           0.0  ...                 NaN    2000       0.0   \n",
            "866      0.0           0.0  ...                 NaN    1980       0.0   \n",
            "867      0.0           0.0  ...                 NaN    1980       0.0   \n",
            "\n",
            "     Start_Rate  Win_Rate  Podium_Rate  FastLap_Rate  Points_Per_Entry  \\\n",
            "0      0.000000       0.0          0.0      0.000000          0.000000   \n",
            "1      1.000000       0.0          0.0      0.000000          0.000000   \n",
            "2      0.300000       0.0          0.0      0.000000          0.000000   \n",
            "3      0.833333       0.0          0.0      0.000000          0.166667   \n",
            "4      1.000000       0.0          0.0      0.000000          0.000000   \n",
            "..          ...       ...          ...           ...               ...   \n",
            "863    0.000000       0.0          0.0      0.000000          0.000000   \n",
            "864    1.000000       0.0          0.0      0.086957          0.260870   \n",
            "865    0.972973       0.0          0.0      0.000000          0.081081   \n",
            "866    1.000000       0.0          0.0      0.000000          0.142857   \n",
            "867    0.909091       0.0          0.0      0.000000          0.000000   \n",
            "\n",
            "     Years_Active  Champion  \n",
            "0               2     False  \n",
            "1               2     False  \n",
            "2               2     False  \n",
            "3               5     False  \n",
            "4               1     False  \n",
            "..            ...       ...  \n",
            "863             1     False  \n",
            "864             1     False  \n",
            "865             5     False  \n",
            "866             3     False  \n",
            "867             3     False  \n",
            "\n",
            "[868 rows x 22 columns]\n"
          ]
        }
      ],
      "source": [
        "import pandas as pd\n",
        "import matplotlib.pyplot as plt\n",
        "\n",
        "#/content/F1Drivers_Dataset.csv\n",
        "df=pd.read_csv('//content/F1Drivers_Dataset.csv')\n",
        "data=pd.DataFrame(df)\n",
        "print(data)"
      ]
    },
    {
      "cell_type": "code",
      "source": [
        "from google.colab import auth\n",
        "auth.authenticate_user()\n",
        "print('Authenticated')"
      ],
      "metadata": {
        "colab": {
          "base_uri": "https://localhost:8080/"
        },
        "id": "FgOTTyk0JWGa",
        "outputId": "8873031e-1dbe-4ca8-d7fc-c8a6db94e0ff"
      },
      "execution_count": null,
      "outputs": [
        {
          "output_type": "stream",
          "name": "stdout",
          "text": [
            "Authenticated\n"
          ]
        }
      ]
    },
    {
      "cell_type": "markdown",
      "source": [
        "Comsultas que se desean realizar\n"
      ],
      "metadata": {
        "id": "JI2BIsqNKsUR"
      }
    },
    {
      "cell_type": "code",
      "source": [
        "#piloto con mas victorias 2000-2022\n",
        "\n",
        "# Filtrar los datos para los años entre 2000 y 2022\n",
        "filtered_df = df[df['Seasons'].apply(lambda x: any(year in range(2000, 2023) for year in eval(x)))]\n",
        "\n",
        "# Encontrar el piloto con más victorias\n",
        "max_wins_pilot = filtered_df.loc[filtered_df['Race_Wins'].idxmax()]\n",
        "\n",
        "# Mostrar el resultado\n",
        "print(\"Piloto con más victorias entre 2000 y 2022:\")\n",
        "print(f\"Nombre: {max_wins_pilot['Driver']}\")\n",
        "print(f\"Victorias: {max_wins_pilot['Race_Wins']}\")\n"
      ],
      "metadata": {
        "colab": {
          "base_uri": "https://localhost:8080/"
        },
        "id": "pMHnLyW6Za4l",
        "outputId": "36302845-3c72-447a-deb0-cad8376f9f02"
      },
      "execution_count": null,
      "outputs": [
        {
          "output_type": "stream",
          "name": "stdout",
          "text": [
            "Piloto con más victorias entre 2000 y 2022:\n",
            "Nombre: Lewis Hamilton\n",
            "Victorias: 103.0\n"
          ]
        }
      ]
    },
    {
      "cell_type": "code",
      "source": [
        "#pilotos con mas participaciones 1954-2022\n",
        "\n",
        "# Convertir la columna 'Seasons' de cadenas a listas\n",
        "df['Seasons'] = df['Seasons'].apply(lambda x: eval(x) if isinstance(x, str) else x)\n",
        "\n",
        "# Filtrar los datos para los años entre 1954 y 2022\n",
        "filtered_df = df[df['Seasons'].apply(lambda x: any(year in range(1954, 2023) for year in x))]\n",
        "\n",
        "# Ordenar por el número de participaciones en carreras y seleccionar los 10 primeros\n",
        "top_10_pilots = filtered_df.nlargest(10, 'Race_Entries')\n",
        "\n",
        "# Mostrar el resultado\n",
        "print(\"Top 10 pilotos con más participación en carreras entre 1954 y 2022:\")\n",
        "print(top_10_pilots[['Driver', 'Race_Entries']])\n"
      ],
      "metadata": {
        "id": "NP3ekj9Ca2oq",
        "outputId": "2bf9b8b6-500a-4895-8d43-a34ec93a3933",
        "colab": {
          "base_uri": "https://localhost:8080/"
        }
      },
      "execution_count": null,
      "outputs": [
        {
          "output_type": "stream",
          "name": "stdout",
          "text": [
            "Top 10 pilotos con más participación en carreras entre 1954 y 2022:\n",
            "                 Driver  Race_Entries\n",
            "17      Fernando Alonso         359.0\n",
            "635      Kimi Räikkönen         353.0\n",
            "54   Rubens Barrichello         326.0\n",
            "338      Lewis Hamilton         311.0\n",
            "135       Jenson Button         309.0\n",
            "710  Michael Schumacher         308.0\n",
            "812    Sebastian Vettel         300.0\n",
            "501        Felipe Massa         272.0\n",
            "590    Riccardo Patrese         257.0\n",
            "797        Jarno Trulli         256.0\n"
          ]
        }
      ]
    },
    {
      "source": [
        "#los 10 pilotos con mas podios\n",
        "\n",
        "datafiltered = df.sort_values('Podiums', ascending=False)  # busca ascendentemente los podios de los pilotos.\n",
        "\n",
        "# Selecciona el top 10 de los pilotos\n",
        "top_10 = datafiltered.head(10)\n",
        "\n",
        "# imprime el resultado\n",
        "print(top_10[['Driver', 'Podiums']])"
      ],
      "cell_type": "code",
      "metadata": {
        "colab": {
          "base_uri": "https://localhost:8080/"
        },
        "id": "qkmxDKWoc_rd",
        "outputId": "b8a8a24a-c8c4-4bd0-ef2e-0d2ecbc01fe0"
      },
      "execution_count": null,
      "outputs": [
        {
          "output_type": "stream",
          "name": "stdout",
          "text": [
            "                 Driver  Podiums\n",
            "338      Lewis Hamilton    191.0\n",
            "710  Michael Schumacher    155.0\n",
            "812    Sebastian Vettel    122.0\n",
            "628         Alain Prost    106.0\n",
            "635      Kimi Räikkönen    103.0\n",
            "17      Fernando Alonso     99.0\n",
            "720        Ayrton Senna     80.0\n",
            "811      Max Verstappen     78.0\n",
            "54   Rubens Barrichello     68.0\n",
            "100     Valtteri Bottas     67.0\n"
          ]
        }
      ]
    },
    {
      "cell_type": "code",
      "source": [
        "# piloto italino con mas carreras ganadas\n",
        "\n",
        "# Filtrar por país Italia\n",
        "italian_drivers = df[df['Nationality'] == 'Italy']\n",
        "\n",
        "# Encontrar el piloto con más victorias\n",
        "top_italian_driver = italian_drivers.loc[italian_drivers['Race_Wins'].idxmax()]\n",
        "\n",
        "# Mostrar el resultado\n",
        "print(\"Piloto italiano con más victorias en carreras:\")\n",
        "print(f\"Nombre: {top_italian_driver['Driver']}\")\n",
        "print(f\"Victorias: {top_italian_driver['Race_Wins']}\")\n"
      ],
      "metadata": {
        "colab": {
          "base_uri": "https://localhost:8080/"
        },
        "id": "FWIfYnLMd36H",
        "outputId": "96d787f9-aa2c-4541-86e7-2e57b8ce4c56"
      },
      "execution_count": null,
      "outputs": [
        {
          "output_type": "stream",
          "name": "stdout",
          "text": [
            "Piloto italiano con más victorias en carreras:\n",
            "Nombre: Alberto Ascari\n",
            "Victorias: 13.0\n"
          ]
        }
      ]
    }
  ]
}
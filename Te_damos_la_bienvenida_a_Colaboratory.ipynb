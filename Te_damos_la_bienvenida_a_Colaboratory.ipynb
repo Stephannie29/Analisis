{
  "cells": [
    {
      "cell_type": "markdown",
      "metadata": {
        "id": "view-in-github",
        "colab_type": "text"
      },
      "source": [
        "<a href=\"https://colab.research.google.com/github/Stephannie29/Analisis/blob/main/Te_damos_la_bienvenida_a_Colaboratory.ipynb\" target=\"_parent\"><img src=\"https://colab.research.google.com/assets/colab-badge.svg\" alt=\"Open In Colab\"/></a>"
      ]
    },
    {
      "cell_type": "code",
      "source": [
        "import pandas as pd\n",
        "import matplotlib.pyplot as plt\n",
        "\n",
        "df = pd.read_csv('//content/F1Drivers_Dataset.csv')\n",
        "\n",
        "# Contar la cantidad de pilotos por década\n",
        "decade_counts = df['Decade'].value_counts().sort_index()\n",
        "\n",
        "\n",
        "decade_counts_df = pd.DataFrame({\n",
        "    'Decade': decade_counts.index,\n",
        "    'Number of Drivers': decade_counts.values\n",
        "})\n",
        "\n",
        "# Calcular el promedio de pilotos por década\n",
        "average_pilots_per_decade = decade_counts.mean()\n",
        "\n",
        "# Mostrar el DataFrame y el promedio\n",
        "print(\"DataFrame de cantidad de pilotos por década:\")\n",
        "print(decade_counts_df)\n",
        "\n",
        "print(f\"\\nNúmero promedio de pilotos por década: {average_pilots_per_decade:.2f}\")\n"
      ],
      "metadata": {
        "id": "a2kJTa-2ynQ4",
        "outputId": "6d521b0e-bf5d-4a17-d07e-b78f836156ef",
        "colab": {
          "base_uri": "https://localhost:8080/"
        }
      },
      "execution_count": 21,
      "outputs": [
        {
          "output_type": "stream",
          "name": "stdout",
          "text": [
            "\n",
            "Número promedio de pilotos por década: 108.50\n"
          ]
        }
      ]
    }
  ],
  "metadata": {
    "colab": {
      "name": "Te damos la bienvenida a Colaboratory",
      "provenance": [],
      "include_colab_link": true
    },
    "kernelspec": {
      "display_name": "Python 3",
      "name": "python3"
    }
  },
  "nbformat": 4,
  "nbformat_minor": 0
}
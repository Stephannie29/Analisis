{
  "nbformat": 4,
  "nbformat_minor": 0,
  "metadata": {
    "colab": {
      "provenance": [],
      "authorship_tag": "ABX9TyO47gACvxhCkkIoPkW/VYFP",
      "include_colab_link": true
    },
    "kernelspec": {
      "name": "python3",
      "display_name": "Python 3"
    },
    "language_info": {
      "name": "python"
    }
  },
  "cells": [
    {
      "cell_type": "markdown",
      "metadata": {
        "id": "view-in-github",
        "colab_type": "text"
      },
      "source": [
        "<a href=\"https://colab.research.google.com/github/Stephannie29/Analisis/blob/main/untitled1.ipynb\" target=\"_parent\"><img src=\"https://colab.research.google.com/assets/colab-badge.svg\" alt=\"Open In Colab\"/></a>"
      ]
    },
    {
      "cell_type": "code",
      "execution_count": null,
      "metadata": {
        "colab": {
          "base_uri": "https://localhost:8080/"
        },
        "id": "naFdJ7VLWQmd",
        "outputId": "54ee06f2-03e3-4b3d-8d1e-0af7ad4e435e"
      },
      "outputs": [
        {
          "output_type": "stream",
          "name": "stdout",
          "text": [
            "Ubicación encontrada:\n",
            "Dirección: UNA - Campus Pbro. Benjamín Núñez, Calle 1, Lagunilla, Ulloa, Cantón de Heredia, Heredia, 40104, Costa Rica\n",
            "Latitud: 9.97389895\n",
            "Longitud: -84.1280985519902\n"
          ]
        }
      ],
      "source": [
        "from geopy.geocoders import Nominatim\n",
        "\n",
        "location = geocoder.geocode(ubicacion)\n",
        "\n",
        "if location is not None:\n",
        "    print(\"Ubicación encontrada:\")\n",
        "    print(\"Dirección:\", location.address)\n",
        "    print(\"Latitud:\", location.latitude)\n",
        "    print(\"Longitud:\", location.longitude)\n",
        "else:\n",
        "    print(\"No se encontró la ubicación\")"
      ]
    },
    {
      "cell_type": "code",
      "source": [
        "from google.colab import files\n",
        "import folium\n",
        "\n",
        "#cordenadas de centro de costa rica\n",
        "lat, lon= 9.7489,-83.7534\n"
      ],
      "metadata": {
        "id": "Om4pRhphbXQn"
      },
      "execution_count": null,
      "outputs": []
    },
    {
      "cell_type": "code",
      "source": [
        "# ipython-input-11-67043ca87822\n",
        "\n",
        "# Import the folium module\n",
        "import folium\n",
        "from google.colab import files\n",
        "\n",
        "#cordenadas de centro de costa rica\n",
        "lat, lon= 9.7489,-83.7534\n",
        "\n",
        "Costa_Rica_map= folium.Map(location=[lat,lon],zoom_start=7)\n",
        "Costa_Rica_map.save('CostaRica.html')\n",
        "files.download('CostaRica.html')\n",
        "Costa_Rica_map"
      ],
      "metadata": {
        "colab": {
          "base_uri": "https://localhost:8080/",
          "height": 1000
        },
        "id": "E9UhtVcLcnMf",
        "outputId": "be7d34ea-ebce-4621-a6d3-4bc10ca60a4c"
      },
      "execution_count": null,
      "outputs": [
        {
          "output_type": "display_data",
          "data": {
            "text/plain": [
              "<IPython.core.display.Javascript object>"
            ],
            "application/javascript": [
              "\n",
              "    async function download(id, filename, size) {\n",
              "      if (!google.colab.kernel.accessAllowed) {\n",
              "        return;\n",
              "      }\n",
              "      const div = document.createElement('div');\n",
              "      const label = document.createElement('label');\n",
              "      label.textContent = `Downloading \"${filename}\": `;\n",
              "      div.appendChild(label);\n",
              "      const progress = document.createElement('progress');\n",
              "      progress.max = size;\n",
              "      div.appendChild(progress);\n",
              "      document.body.appendChild(div);\n",
              "\n",
              "      const buffers = [];\n",
              "      let downloaded = 0;\n",
              "\n",
              "      const channel = await google.colab.kernel.comms.open(id);\n",
              "      // Send a message to notify the kernel that we're ready.\n",
              "      channel.send({})\n",
              "\n",
              "      for await (const message of channel.messages) {\n",
              "        // Send a message to notify the kernel that we're ready.\n",
              "        channel.send({})\n",
              "        if (message.buffers) {\n",
              "          for (const buffer of message.buffers) {\n",
              "            buffers.push(buffer);\n",
              "            downloaded += buffer.byteLength;\n",
              "            progress.value = downloaded;\n",
              "          }\n",
              "        }\n",
              "      }\n",
              "      const blob = new Blob(buffers, {type: 'application/binary'});\n",
              "      const a = document.createElement('a');\n",
              "      a.href = window.URL.createObjectURL(blob);\n",
              "      a.download = filename;\n",
              "      div.appendChild(a);\n",
              "      a.click();\n",
              "      div.remove();\n",
              "    }\n",
              "  "
            ]
          },
          "metadata": {}
        },
        {
          "output_type": "display_data",
          "data": {
            "text/plain": [
              "<IPython.core.display.Javascript object>"
            ],
            "application/javascript": [
              "download(\"download_ab83d8b6-a459-49d8-8b3a-58a6b94e19fa\", \"CostaRica.html\", 3095)"
            ]
          },
          "metadata": {}
        },
        {
          "output_type": "execute_result",
          "data": {
            "text/plain": [
              "<folium.folium.Map at 0x7ad7d95427a0>"
            ],
            "text/html": [
              "<div style=\"width:100%;\"><div style=\"position:relative;width:100%;height:0;padding-bottom:60%;\"><span style=\"color:#565656\">Make this Notebook Trusted to load map: File -> Trust Notebook</span><iframe srcdoc=\"&lt;!DOCTYPE html&gt;\n",
              "&lt;html&gt;\n",
              "&lt;head&gt;\n",
              "    \n",
              "    &lt;meta http-equiv=&quot;content-type&quot; content=&quot;text/html; charset=UTF-8&quot; /&gt;\n",
              "    \n",
              "        &lt;script&gt;\n",
              "            L_NO_TOUCH = false;\n",
              "            L_DISABLE_3D = false;\n",
              "        &lt;/script&gt;\n",
              "    \n",
              "    &lt;style&gt;html, body {width: 100%;height: 100%;margin: 0;padding: 0;}&lt;/style&gt;\n",
              "    &lt;style&gt;#map {position:absolute;top:0;bottom:0;right:0;left:0;}&lt;/style&gt;\n",
              "    &lt;script src=&quot;https://cdn.jsdelivr.net/npm/leaflet@1.9.3/dist/leaflet.js&quot;&gt;&lt;/script&gt;\n",
              "    &lt;script src=&quot;https://code.jquery.com/jquery-3.7.1.min.js&quot;&gt;&lt;/script&gt;\n",
              "    &lt;script src=&quot;https://cdn.jsdelivr.net/npm/bootstrap@5.2.2/dist/js/bootstrap.bundle.min.js&quot;&gt;&lt;/script&gt;\n",
              "    &lt;script src=&quot;https://cdnjs.cloudflare.com/ajax/libs/Leaflet.awesome-markers/2.0.2/leaflet.awesome-markers.js&quot;&gt;&lt;/script&gt;\n",
              "    &lt;link rel=&quot;stylesheet&quot; href=&quot;https://cdn.jsdelivr.net/npm/leaflet@1.9.3/dist/leaflet.css&quot;/&gt;\n",
              "    &lt;link rel=&quot;stylesheet&quot; href=&quot;https://cdn.jsdelivr.net/npm/bootstrap@5.2.2/dist/css/bootstrap.min.css&quot;/&gt;\n",
              "    &lt;link rel=&quot;stylesheet&quot; href=&quot;https://netdna.bootstrapcdn.com/bootstrap/3.0.0/css/bootstrap-glyphicons.css&quot;/&gt;\n",
              "    &lt;link rel=&quot;stylesheet&quot; href=&quot;https://cdn.jsdelivr.net/npm/@fortawesome/fontawesome-free@6.2.0/css/all.min.css&quot;/&gt;\n",
              "    &lt;link rel=&quot;stylesheet&quot; href=&quot;https://cdnjs.cloudflare.com/ajax/libs/Leaflet.awesome-markers/2.0.2/leaflet.awesome-markers.css&quot;/&gt;\n",
              "    &lt;link rel=&quot;stylesheet&quot; href=&quot;https://cdn.jsdelivr.net/gh/python-visualization/folium/folium/templates/leaflet.awesome.rotate.min.css&quot;/&gt;\n",
              "    \n",
              "            &lt;meta name=&quot;viewport&quot; content=&quot;width=device-width,\n",
              "                initial-scale=1.0, maximum-scale=1.0, user-scalable=no&quot; /&gt;\n",
              "            &lt;style&gt;\n",
              "                #map_ceb0868607a37710a50f11eac66f1243 {\n",
              "                    position: relative;\n",
              "                    width: 100.0%;\n",
              "                    height: 100.0%;\n",
              "                    left: 0.0%;\n",
              "                    top: 0.0%;\n",
              "                }\n",
              "                .leaflet-container { font-size: 1rem; }\n",
              "            &lt;/style&gt;\n",
              "        \n",
              "&lt;/head&gt;\n",
              "&lt;body&gt;\n",
              "    \n",
              "    \n",
              "            &lt;div class=&quot;folium-map&quot; id=&quot;map_ceb0868607a37710a50f11eac66f1243&quot; &gt;&lt;/div&gt;\n",
              "        \n",
              "&lt;/body&gt;\n",
              "&lt;script&gt;\n",
              "    \n",
              "    \n",
              "            var map_ceb0868607a37710a50f11eac66f1243 = L.map(\n",
              "                &quot;map_ceb0868607a37710a50f11eac66f1243&quot;,\n",
              "                {\n",
              "                    center: [9.7489, -83.7534],\n",
              "                    crs: L.CRS.EPSG3857,\n",
              "                    zoom: 7,\n",
              "                    zoomControl: true,\n",
              "                    preferCanvas: false,\n",
              "                }\n",
              "            );\n",
              "\n",
              "            \n",
              "\n",
              "        \n",
              "    \n",
              "            var tile_layer_8472eecf672812c0ce5051cd169f8649 = L.tileLayer(\n",
              "                &quot;https://tile.openstreetmap.org/{z}/{x}/{y}.png&quot;,\n",
              "                {&quot;attribution&quot;: &quot;\\u0026copy; \\u003ca href=\\&quot;https://www.openstreetmap.org/copyright\\&quot;\\u003eOpenStreetMap\\u003c/a\\u003e contributors&quot;, &quot;detectRetina&quot;: false, &quot;maxNativeZoom&quot;: 19, &quot;maxZoom&quot;: 19, &quot;minZoom&quot;: 0, &quot;noWrap&quot;: false, &quot;opacity&quot;: 1, &quot;subdomains&quot;: &quot;abc&quot;, &quot;tms&quot;: false}\n",
              "            );\n",
              "        \n",
              "    \n",
              "            tile_layer_8472eecf672812c0ce5051cd169f8649.addTo(map_ceb0868607a37710a50f11eac66f1243);\n",
              "        \n",
              "    \n",
              "            tile_layer_8472eecf672812c0ce5051cd169f8649.addTo(map_ceb0868607a37710a50f11eac66f1243);\n",
              "        \n",
              "&lt;/script&gt;\n",
              "&lt;/html&gt;\" style=\"position:absolute;width:100%;height:100%;left:0;top:0;border:none !important;\" allowfullscreen webkitallowfullscreen mozallowfullscreen></iframe></div></div>"
            ]
          },
          "metadata": {},
          "execution_count": 12
        }
      ]
    },
    {
      "cell_type": "code",
      "source": [
        "from geopy.distance import geodesic"
      ],
      "metadata": {
        "id": "_DwnlKxBcrkN"
      },
      "execution_count": null,
      "outputs": []
    },
    {
      "cell_type": "code",
      "source": [
        "#Cordenadas de la nueva york\n",
        "lat1,lon1=40.7128,-74.0060\n",
        "\n",
        "#Cordenadas de la ciudad de los angeles\n",
        "lat2,lon2=34.051333, -118.241333"
      ],
      "metadata": {
        "id": "9pCEDDRidBbd"
      },
      "execution_count": null,
      "outputs": []
    },
    {
      "cell_type": "code",
      "source": [
        "from geopy.geocoders import Nominatim\n",
        "\n",
        "# Inicializar el geocodificador\n",
        "geocoder = Nominatim(user_agent=\"stemcoder\")\n",
        "\n",
        "# Encontrar lugar\n",
        "ubicacion = \"Ciudad del Vaticano\"\n",
        "location = geocoder.geocode(ubicacion)\n",
        "\n",
        "if location is not None:\n",
        "    print(\"Ubicación encontrada:\")\n",
        "    print(\"Dirección:\", location.address)\n",
        "    print(\"Latitud:\", location.latitude)\n",
        "    print(\"Longitud:\", location.longitude)\n",
        "else:\n",
        "    print(\"No se encontró la ubicación\")"
      ],
      "metadata": {
        "colab": {
          "base_uri": "https://localhost:8080/"
        },
        "id": "4IerWYqRebkF",
        "outputId": "04f7ce71-a429-483c-acd7-908cd7d7e52a"
      },
      "execution_count": null,
      "outputs": [
        {
          "output_type": "stream",
          "name": "stdout",
          "text": [
            "No se encontró la ubicación\n"
          ]
        }
      ]
    },
    {
      "cell_type": "code",
      "source": [
        "from geopy.geocoders import Nominatim\n",
        "\n",
        "# Inicializar el geocodificador\n",
        "geocoder = Nominatim(user_agent=\"stemcoder\")\n",
        "\n",
        "# Encontrar lugar\n",
        "ubicacion = \"Campus Omar Dengo\"\n",
        "location = geocoder.geocode(ubicacion)\n",
        "\n",
        "if location is not None:\n",
        "    print(\"Ubicación encontrada:\")\n",
        "    print(\"Dirección:\", location.address)\n",
        "    print(\"Latitud:\", location.latitude)\n",
        "    print(\"Longitud:\", location.longitude)\n",
        "else:\n",
        "    print(\"No se encontró la ubicación\")\n",
        "\n",
        "# Usar coordenadas específicas\n",
        "latitud = 9.998551712577562\n",
        "longitud = -84.11109410208728\n",
        "\n",
        "print(f\"\\nCoordenadas específicas:\")\n",
        "print(\"Latitud:\", latitud)\n",
        "print(\"Longitud:\", longitud)\n"
      ],
      "metadata": {
        "colab": {
          "base_uri": "https://localhost:8080/"
        },
        "id": "LcHqz55xgd8O",
        "outputId": "61a513cc-dd28-4d65-b48f-b9bdb32ca699"
      },
      "execution_count": null,
      "outputs": [
        {
          "output_type": "stream",
          "name": "stdout",
          "text": [
            "Ubicación encontrada:\n",
            "Dirección: Universidad Nacional, Calle 9 Pedro Henríquez Ureña, La India, Corazón de Jesús, Heredia, Cantón de Heredia, Heredia, 40101, Costa Rica\n",
            "Latitud: 10.0003416\n",
            "Longitud: -84.10616817673456\n",
            "\n",
            "Coordenadas específicas:\n",
            "Latitud: 9.998551712577562\n",
            "Longitud: -84.11109410208728\n"
          ]
        }
      ]
    },
    {
      "cell_type": "code",
      "source": [
        "from geopy.geocoders import Nominatim\n",
        "\n",
        "# Inicializar el geocodificador\n",
        "geocoder = Nominatim(user_agent=\"stemcoder\")\n",
        "\n",
        "# Encontrar lugar\n",
        "ubicacion = \"Campus Benjamín Núñez\"\n",
        "location = geocoder.geocode(ubicacion)\n",
        "\n",
        "if location is not None:\n",
        "    print(\"Ubicación encontrada:\")\n",
        "    print(\"Dirección:\", location.address)\n",
        "    print(\"Latitud:\", location.latitude)\n",
        "    print(\"Longitud:\", location.longitude)\n",
        "else:\n",
        "    print(\"No se encontró la ubicación\")\n",
        "\n",
        "# Usar coordenadas específicas\n",
        "latitud = 9.971107592572086\n",
        "longitud = -84.12836991742705\n",
        "\n",
        "print(f\"\\nCoordenadas específicas:\")\n",
        "print(\"Latitud:\", latitud)\n",
        "print(\"Longitud:\", longitud)\n"
      ],
      "metadata": {
        "colab": {
          "base_uri": "https://localhost:8080/"
        },
        "id": "GwM2UHAOgmG-",
        "outputId": "e2e3873f-5aae-4174-99e0-fc64321e5053"
      },
      "execution_count": null,
      "outputs": [
        {
          "output_type": "stream",
          "name": "stdout",
          "text": [
            "Ubicación encontrada:\n",
            "Dirección: UNA - Campus Pbro. Benjamín Núñez, Calle 1, Lagunilla, Ulloa, Cantón de Heredia, Heredia, 40104, Costa Rica\n",
            "Latitud: 9.97389895\n",
            "Longitud: -84.1280985519902\n",
            "\n",
            "Coordenadas específicas:\n",
            "Latitud: 9.971107592572086\n",
            "Longitud: -84.12836991742705\n"
          ]
        }
      ]
    },
    {
      "cell_type": "code",
      "source": [
        "import folium\n",
        "from folium.plugins import MiniMap\n",
        "from branca.element import Figure\n",
        "\n",
        "pupuptex = \"Campus Omar Dengo\"\n",
        "my_map = folium.Map(location=[9.998551712577562,-84.11109410208728])\n",
        "\n",
        "folium.Marker(location=[9.998551712577562,-84.11109410208728],popup=pupuptex,icon=folium.Icon(color=\"red\",icon=\"ok-sign\")).add_to(my_map)\n",
        "\n",
        "folium.Circle(location=[9.998551712577562,-84.11109410208728],color=\"blue\", weight=6, fill_color=\"purple\", fill_opacity=0.5,tooltip= \"Campus Omar Dengo\").add_to(my_map)\n",
        "\n",
        "my_map"
      ],
      "metadata": {
        "colab": {
          "base_uri": "https://localhost:8080/",
          "height": 1000
        },
        "id": "JTGNwUl9iPGW",
        "outputId": "6660247a-6836-45a3-b144-810b22f2afd9"
      },
      "execution_count": null,
      "outputs": [
        {
          "output_type": "execute_result",
          "data": {
            "text/plain": [
              "<folium.folium.Map at 0x7ad7c4967790>"
            ],
            "text/html": [
              "<div style=\"width:100%;\"><div style=\"position:relative;width:100%;height:0;padding-bottom:60%;\"><span style=\"color:#565656\">Make this Notebook Trusted to load map: File -> Trust Notebook</span><iframe srcdoc=\"&lt;!DOCTYPE html&gt;\n",
              "&lt;html&gt;\n",
              "&lt;head&gt;\n",
              "    \n",
              "    &lt;meta http-equiv=&quot;content-type&quot; content=&quot;text/html; charset=UTF-8&quot; /&gt;\n",
              "    \n",
              "        &lt;script&gt;\n",
              "            L_NO_TOUCH = false;\n",
              "            L_DISABLE_3D = false;\n",
              "        &lt;/script&gt;\n",
              "    \n",
              "    &lt;style&gt;html, body {width: 100%;height: 100%;margin: 0;padding: 0;}&lt;/style&gt;\n",
              "    &lt;style&gt;#map {position:absolute;top:0;bottom:0;right:0;left:0;}&lt;/style&gt;\n",
              "    &lt;script src=&quot;https://cdn.jsdelivr.net/npm/leaflet@1.9.3/dist/leaflet.js&quot;&gt;&lt;/script&gt;\n",
              "    &lt;script src=&quot;https://code.jquery.com/jquery-3.7.1.min.js&quot;&gt;&lt;/script&gt;\n",
              "    &lt;script src=&quot;https://cdn.jsdelivr.net/npm/bootstrap@5.2.2/dist/js/bootstrap.bundle.min.js&quot;&gt;&lt;/script&gt;\n",
              "    &lt;script src=&quot;https://cdnjs.cloudflare.com/ajax/libs/Leaflet.awesome-markers/2.0.2/leaflet.awesome-markers.js&quot;&gt;&lt;/script&gt;\n",
              "    &lt;link rel=&quot;stylesheet&quot; href=&quot;https://cdn.jsdelivr.net/npm/leaflet@1.9.3/dist/leaflet.css&quot;/&gt;\n",
              "    &lt;link rel=&quot;stylesheet&quot; href=&quot;https://cdn.jsdelivr.net/npm/bootstrap@5.2.2/dist/css/bootstrap.min.css&quot;/&gt;\n",
              "    &lt;link rel=&quot;stylesheet&quot; href=&quot;https://netdna.bootstrapcdn.com/bootstrap/3.0.0/css/bootstrap-glyphicons.css&quot;/&gt;\n",
              "    &lt;link rel=&quot;stylesheet&quot; href=&quot;https://cdn.jsdelivr.net/npm/@fortawesome/fontawesome-free@6.2.0/css/all.min.css&quot;/&gt;\n",
              "    &lt;link rel=&quot;stylesheet&quot; href=&quot;https://cdnjs.cloudflare.com/ajax/libs/Leaflet.awesome-markers/2.0.2/leaflet.awesome-markers.css&quot;/&gt;\n",
              "    &lt;link rel=&quot;stylesheet&quot; href=&quot;https://cdn.jsdelivr.net/gh/python-visualization/folium/folium/templates/leaflet.awesome.rotate.min.css&quot;/&gt;\n",
              "    \n",
              "            &lt;meta name=&quot;viewport&quot; content=&quot;width=device-width,\n",
              "                initial-scale=1.0, maximum-scale=1.0, user-scalable=no&quot; /&gt;\n",
              "            &lt;style&gt;\n",
              "                #map_3575d60f4adb7113aa407f1b886c518c {\n",
              "                    position: relative;\n",
              "                    width: 100.0%;\n",
              "                    height: 100.0%;\n",
              "                    left: 0.0%;\n",
              "                    top: 0.0%;\n",
              "                }\n",
              "                .leaflet-container { font-size: 1rem; }\n",
              "            &lt;/style&gt;\n",
              "        \n",
              "&lt;/head&gt;\n",
              "&lt;body&gt;\n",
              "    \n",
              "    \n",
              "            &lt;div class=&quot;folium-map&quot; id=&quot;map_3575d60f4adb7113aa407f1b886c518c&quot; &gt;&lt;/div&gt;\n",
              "        \n",
              "&lt;/body&gt;\n",
              "&lt;script&gt;\n",
              "    \n",
              "    \n",
              "            var map_3575d60f4adb7113aa407f1b886c518c = L.map(\n",
              "                &quot;map_3575d60f4adb7113aa407f1b886c518c&quot;,\n",
              "                {\n",
              "                    center: [9.998551712577562, -84.11109410208728],\n",
              "                    crs: L.CRS.EPSG3857,\n",
              "                    zoom: 10,\n",
              "                    zoomControl: true,\n",
              "                    preferCanvas: false,\n",
              "                }\n",
              "            );\n",
              "\n",
              "            \n",
              "\n",
              "        \n",
              "    \n",
              "            var tile_layer_31eb81d5e1066bde36b02d7c65d49e16 = L.tileLayer(\n",
              "                &quot;https://tile.openstreetmap.org/{z}/{x}/{y}.png&quot;,\n",
              "                {&quot;attribution&quot;: &quot;\\u0026copy; \\u003ca href=\\&quot;https://www.openstreetmap.org/copyright\\&quot;\\u003eOpenStreetMap\\u003c/a\\u003e contributors&quot;, &quot;detectRetina&quot;: false, &quot;maxNativeZoom&quot;: 19, &quot;maxZoom&quot;: 19, &quot;minZoom&quot;: 0, &quot;noWrap&quot;: false, &quot;opacity&quot;: 1, &quot;subdomains&quot;: &quot;abc&quot;, &quot;tms&quot;: false}\n",
              "            );\n",
              "        \n",
              "    \n",
              "            tile_layer_31eb81d5e1066bde36b02d7c65d49e16.addTo(map_3575d60f4adb7113aa407f1b886c518c);\n",
              "        \n",
              "    \n",
              "            var marker_a78cdcdafe535a39a882bd624d2db8c2 = L.marker(\n",
              "                [9.998551712577562, -84.11109410208728],\n",
              "                {}\n",
              "            ).addTo(map_3575d60f4adb7113aa407f1b886c518c);\n",
              "        \n",
              "    \n",
              "            var icon_a7a265dd7af38e4c872637b68704098f = L.AwesomeMarkers.icon(\n",
              "                {&quot;extraClasses&quot;: &quot;fa-rotate-0&quot;, &quot;icon&quot;: &quot;ok-sign&quot;, &quot;iconColor&quot;: &quot;white&quot;, &quot;markerColor&quot;: &quot;red&quot;, &quot;prefix&quot;: &quot;glyphicon&quot;}\n",
              "            );\n",
              "            marker_a78cdcdafe535a39a882bd624d2db8c2.setIcon(icon_a7a265dd7af38e4c872637b68704098f);\n",
              "        \n",
              "    \n",
              "        var popup_d655f888228e8588985eee7b43c91a7b = L.popup({&quot;maxWidth&quot;: &quot;100%&quot;});\n",
              "\n",
              "        \n",
              "            \n",
              "                var html_f9a64d7d57eae7c2c47b289f27c08c5f = $(`&lt;div id=&quot;html_f9a64d7d57eae7c2c47b289f27c08c5f&quot; style=&quot;width: 100.0%; height: 100.0%;&quot;&gt;Campus Omar Dengo&lt;/div&gt;`)[0];\n",
              "                popup_d655f888228e8588985eee7b43c91a7b.setContent(html_f9a64d7d57eae7c2c47b289f27c08c5f);\n",
              "            \n",
              "        \n",
              "\n",
              "        marker_a78cdcdafe535a39a882bd624d2db8c2.bindPopup(popup_d655f888228e8588985eee7b43c91a7b)\n",
              "        ;\n",
              "\n",
              "        \n",
              "    \n",
              "    \n",
              "            var circle_4158d94a938c0602cca8ad0bbaabbc3f = L.circle(\n",
              "                [9.998551712577562, -84.11109410208728],\n",
              "                {&quot;bubblingMouseEvents&quot;: true, &quot;color&quot;: &quot;blue&quot;, &quot;dashArray&quot;: null, &quot;dashOffset&quot;: null, &quot;fill&quot;: true, &quot;fillColor&quot;: &quot;purple&quot;, &quot;fillOpacity&quot;: 0.5, &quot;fillRule&quot;: &quot;evenodd&quot;, &quot;lineCap&quot;: &quot;round&quot;, &quot;lineJoin&quot;: &quot;round&quot;, &quot;opacity&quot;: 1.0, &quot;radius&quot;: 50, &quot;stroke&quot;: true, &quot;weight&quot;: 6}\n",
              "            ).addTo(map_3575d60f4adb7113aa407f1b886c518c);\n",
              "        \n",
              "    \n",
              "            circle_4158d94a938c0602cca8ad0bbaabbc3f.bindTooltip(\n",
              "                `&lt;div&gt;\n",
              "                     Campus Omar Dengo\n",
              "                 &lt;/div&gt;`,\n",
              "                {&quot;sticky&quot;: true}\n",
              "            );\n",
              "        \n",
              "&lt;/script&gt;\n",
              "&lt;/html&gt;\" style=\"position:absolute;width:100%;height:100%;left:0;top:0;border:none !important;\" allowfullscreen webkitallowfullscreen mozallowfullscreen></iframe></div></div>"
            ]
          },
          "metadata": {},
          "execution_count": 28
        }
      ]
    },
    {
      "cell_type": "code",
      "source": [
        "import folium\n",
        "from folium.plugins import MiniMap\n",
        "from branca.element import Figure\n",
        "\n",
        "pupuptex = \"Campus Benjamín Núñez\"\n",
        "my_map = folium.Map(location=[9.970917390495137, -84.12838064626311])\n",
        "\n",
        "folium.Marker(location=[9.970917390495137, -84.12838064626311],popup=pupuptex,icon=folium.Icon(color=\"red\",icon=\"ok-sign\")).add_to(my_map)\n",
        "\n",
        "folium.Circle(location=[9.970917390495137, -84.12838064626311],color=\"blue\", weight=6, fill_color=\"purple\", fill_opacity=0.5,tooltip= \"Campus Benjamín Núñez\").add_to(my_map)\n",
        "\n",
        "my_map"
      ],
      "metadata": {
        "colab": {
          "base_uri": "https://localhost:8080/",
          "height": 1000
        },
        "id": "rM8FOfE9leqm",
        "outputId": "d0a7ed0d-35f9-48a0-bc27-fcb6e818a3d1"
      },
      "execution_count": null,
      "outputs": [
        {
          "output_type": "execute_result",
          "data": {
            "text/plain": [
              "<folium.folium.Map at 0x7ad7c4923700>"
            ],
            "text/html": [
              "<div style=\"width:100%;\"><div style=\"position:relative;width:100%;height:0;padding-bottom:60%;\"><span style=\"color:#565656\">Make this Notebook Trusted to load map: File -> Trust Notebook</span><iframe srcdoc=\"&lt;!DOCTYPE html&gt;\n",
              "&lt;html&gt;\n",
              "&lt;head&gt;\n",
              "    \n",
              "    &lt;meta http-equiv=&quot;content-type&quot; content=&quot;text/html; charset=UTF-8&quot; /&gt;\n",
              "    \n",
              "        &lt;script&gt;\n",
              "            L_NO_TOUCH = false;\n",
              "            L_DISABLE_3D = false;\n",
              "        &lt;/script&gt;\n",
              "    \n",
              "    &lt;style&gt;html, body {width: 100%;height: 100%;margin: 0;padding: 0;}&lt;/style&gt;\n",
              "    &lt;style&gt;#map {position:absolute;top:0;bottom:0;right:0;left:0;}&lt;/style&gt;\n",
              "    &lt;script src=&quot;https://cdn.jsdelivr.net/npm/leaflet@1.9.3/dist/leaflet.js&quot;&gt;&lt;/script&gt;\n",
              "    &lt;script src=&quot;https://code.jquery.com/jquery-3.7.1.min.js&quot;&gt;&lt;/script&gt;\n",
              "    &lt;script src=&quot;https://cdn.jsdelivr.net/npm/bootstrap@5.2.2/dist/js/bootstrap.bundle.min.js&quot;&gt;&lt;/script&gt;\n",
              "    &lt;script src=&quot;https://cdnjs.cloudflare.com/ajax/libs/Leaflet.awesome-markers/2.0.2/leaflet.awesome-markers.js&quot;&gt;&lt;/script&gt;\n",
              "    &lt;link rel=&quot;stylesheet&quot; href=&quot;https://cdn.jsdelivr.net/npm/leaflet@1.9.3/dist/leaflet.css&quot;/&gt;\n",
              "    &lt;link rel=&quot;stylesheet&quot; href=&quot;https://cdn.jsdelivr.net/npm/bootstrap@5.2.2/dist/css/bootstrap.min.css&quot;/&gt;\n",
              "    &lt;link rel=&quot;stylesheet&quot; href=&quot;https://netdna.bootstrapcdn.com/bootstrap/3.0.0/css/bootstrap-glyphicons.css&quot;/&gt;\n",
              "    &lt;link rel=&quot;stylesheet&quot; href=&quot;https://cdn.jsdelivr.net/npm/@fortawesome/fontawesome-free@6.2.0/css/all.min.css&quot;/&gt;\n",
              "    &lt;link rel=&quot;stylesheet&quot; href=&quot;https://cdnjs.cloudflare.com/ajax/libs/Leaflet.awesome-markers/2.0.2/leaflet.awesome-markers.css&quot;/&gt;\n",
              "    &lt;link rel=&quot;stylesheet&quot; href=&quot;https://cdn.jsdelivr.net/gh/python-visualization/folium/folium/templates/leaflet.awesome.rotate.min.css&quot;/&gt;\n",
              "    \n",
              "            &lt;meta name=&quot;viewport&quot; content=&quot;width=device-width,\n",
              "                initial-scale=1.0, maximum-scale=1.0, user-scalable=no&quot; /&gt;\n",
              "            &lt;style&gt;\n",
              "                #map_bdefcb2a0cb785f810ee0e122e53015c {\n",
              "                    position: relative;\n",
              "                    width: 100.0%;\n",
              "                    height: 100.0%;\n",
              "                    left: 0.0%;\n",
              "                    top: 0.0%;\n",
              "                }\n",
              "                .leaflet-container { font-size: 1rem; }\n",
              "            &lt;/style&gt;\n",
              "        \n",
              "&lt;/head&gt;\n",
              "&lt;body&gt;\n",
              "    \n",
              "    \n",
              "            &lt;div class=&quot;folium-map&quot; id=&quot;map_bdefcb2a0cb785f810ee0e122e53015c&quot; &gt;&lt;/div&gt;\n",
              "        \n",
              "&lt;/body&gt;\n",
              "&lt;script&gt;\n",
              "    \n",
              "    \n",
              "            var map_bdefcb2a0cb785f810ee0e122e53015c = L.map(\n",
              "                &quot;map_bdefcb2a0cb785f810ee0e122e53015c&quot;,\n",
              "                {\n",
              "                    center: [9.970917390495137, -84.12838064626311],\n",
              "                    crs: L.CRS.EPSG3857,\n",
              "                    zoom: 10,\n",
              "                    zoomControl: true,\n",
              "                    preferCanvas: false,\n",
              "                }\n",
              "            );\n",
              "\n",
              "            \n",
              "\n",
              "        \n",
              "    \n",
              "            var tile_layer_4bece86ac59044bbe8a8580c82a62240 = L.tileLayer(\n",
              "                &quot;https://tile.openstreetmap.org/{z}/{x}/{y}.png&quot;,\n",
              "                {&quot;attribution&quot;: &quot;\\u0026copy; \\u003ca href=\\&quot;https://www.openstreetmap.org/copyright\\&quot;\\u003eOpenStreetMap\\u003c/a\\u003e contributors&quot;, &quot;detectRetina&quot;: false, &quot;maxNativeZoom&quot;: 19, &quot;maxZoom&quot;: 19, &quot;minZoom&quot;: 0, &quot;noWrap&quot;: false, &quot;opacity&quot;: 1, &quot;subdomains&quot;: &quot;abc&quot;, &quot;tms&quot;: false}\n",
              "            );\n",
              "        \n",
              "    \n",
              "            tile_layer_4bece86ac59044bbe8a8580c82a62240.addTo(map_bdefcb2a0cb785f810ee0e122e53015c);\n",
              "        \n",
              "    \n",
              "            var marker_348592505715fb5274e74eae59f88369 = L.marker(\n",
              "                [9.970917390495137, -84.12838064626311],\n",
              "                {}\n",
              "            ).addTo(map_bdefcb2a0cb785f810ee0e122e53015c);\n",
              "        \n",
              "    \n",
              "            var icon_70ea8fb20222d69405b1eedf5d66fd3c = L.AwesomeMarkers.icon(\n",
              "                {&quot;extraClasses&quot;: &quot;fa-rotate-0&quot;, &quot;icon&quot;: &quot;ok-sign&quot;, &quot;iconColor&quot;: &quot;white&quot;, &quot;markerColor&quot;: &quot;red&quot;, &quot;prefix&quot;: &quot;glyphicon&quot;}\n",
              "            );\n",
              "            marker_348592505715fb5274e74eae59f88369.setIcon(icon_70ea8fb20222d69405b1eedf5d66fd3c);\n",
              "        \n",
              "    \n",
              "        var popup_a02e0440dd96a86efff43632ba24d688 = L.popup({&quot;maxWidth&quot;: &quot;100%&quot;});\n",
              "\n",
              "        \n",
              "            \n",
              "                var html_b748b38b542a84d1d166059e2dd1c488 = $(`&lt;div id=&quot;html_b748b38b542a84d1d166059e2dd1c488&quot; style=&quot;width: 100.0%; height: 100.0%;&quot;&gt;Campus Benjamín Núñez&lt;/div&gt;`)[0];\n",
              "                popup_a02e0440dd96a86efff43632ba24d688.setContent(html_b748b38b542a84d1d166059e2dd1c488);\n",
              "            \n",
              "        \n",
              "\n",
              "        marker_348592505715fb5274e74eae59f88369.bindPopup(popup_a02e0440dd96a86efff43632ba24d688)\n",
              "        ;\n",
              "\n",
              "        \n",
              "    \n",
              "    \n",
              "            var circle_322e656b93d0d47260a9b133544df796 = L.circle(\n",
              "                [9.970917390495137, -84.12838064626311],\n",
              "                {&quot;bubblingMouseEvents&quot;: true, &quot;color&quot;: &quot;blue&quot;, &quot;dashArray&quot;: null, &quot;dashOffset&quot;: null, &quot;fill&quot;: true, &quot;fillColor&quot;: &quot;purple&quot;, &quot;fillOpacity&quot;: 0.5, &quot;fillRule&quot;: &quot;evenodd&quot;, &quot;lineCap&quot;: &quot;round&quot;, &quot;lineJoin&quot;: &quot;round&quot;, &quot;opacity&quot;: 1.0, &quot;radius&quot;: 50, &quot;stroke&quot;: true, &quot;weight&quot;: 6}\n",
              "            ).addTo(map_bdefcb2a0cb785f810ee0e122e53015c);\n",
              "        \n",
              "    \n",
              "            circle_322e656b93d0d47260a9b133544df796.bindTooltip(\n",
              "                `&lt;div&gt;\n",
              "                     Campus Benjamín Núñez\n",
              "                 &lt;/div&gt;`,\n",
              "                {&quot;sticky&quot;: true}\n",
              "            );\n",
              "        \n",
              "&lt;/script&gt;\n",
              "&lt;/html&gt;\" style=\"position:absolute;width:100%;height:100%;left:0;top:0;border:none !important;\" allowfullscreen webkitallowfullscreen mozallowfullscreen></iframe></div></div>"
            ]
          },
          "metadata": {},
          "execution_count": 32
        }
      ]
    },
    {
      "cell_type": "code",
      "source": [
        "import folium\n",
        "from folium.plugins import MiniMap\n",
        "from branca.element import Figure\n",
        "\n",
        "pupuptex = \"Universidad Nacional, Campus Sarapiquí\"\n",
        "my_map = folium.Map(location=[10.319245019292454, -83.92278999043377])\n",
        "\n",
        "folium.Marker(location=[10.319245019292454, -83.92278999043377],popup=pupuptex,icon=folium.Icon(color=\"red\",icon=\"ok-sign\")).add_to(my_map)\n",
        "\n",
        "folium.Circle(location=[10.319245019292454, -83.92278999043377],color=\"blue\", weight=6, fill_color=\"purple\", fill_opacity=0.5,tooltip= \"Universidad Nacional, Campus Sarapiquí\").add_to(my_map)\n",
        "\n",
        "my_map"
      ],
      "metadata": {
        "colab": {
          "base_uri": "https://localhost:8080/",
          "height": 1000
        },
        "id": "0EhT9cNcoktW",
        "outputId": "698d5533-dbaa-4a3f-ae17-930965c53268"
      },
      "execution_count": null,
      "outputs": [
        {
          "output_type": "execute_result",
          "data": {
            "text/plain": [
              "<folium.folium.Map at 0x7ad7c4922770>"
            ],
            "text/html": [
              "<div style=\"width:100%;\"><div style=\"position:relative;width:100%;height:0;padding-bottom:60%;\"><span style=\"color:#565656\">Make this Notebook Trusted to load map: File -> Trust Notebook</span><iframe srcdoc=\"&lt;!DOCTYPE html&gt;\n",
              "&lt;html&gt;\n",
              "&lt;head&gt;\n",
              "    \n",
              "    &lt;meta http-equiv=&quot;content-type&quot; content=&quot;text/html; charset=UTF-8&quot; /&gt;\n",
              "    \n",
              "        &lt;script&gt;\n",
              "            L_NO_TOUCH = false;\n",
              "            L_DISABLE_3D = false;\n",
              "        &lt;/script&gt;\n",
              "    \n",
              "    &lt;style&gt;html, body {width: 100%;height: 100%;margin: 0;padding: 0;}&lt;/style&gt;\n",
              "    &lt;style&gt;#map {position:absolute;top:0;bottom:0;right:0;left:0;}&lt;/style&gt;\n",
              "    &lt;script src=&quot;https://cdn.jsdelivr.net/npm/leaflet@1.9.3/dist/leaflet.js&quot;&gt;&lt;/script&gt;\n",
              "    &lt;script src=&quot;https://code.jquery.com/jquery-3.7.1.min.js&quot;&gt;&lt;/script&gt;\n",
              "    &lt;script src=&quot;https://cdn.jsdelivr.net/npm/bootstrap@5.2.2/dist/js/bootstrap.bundle.min.js&quot;&gt;&lt;/script&gt;\n",
              "    &lt;script src=&quot;https://cdnjs.cloudflare.com/ajax/libs/Leaflet.awesome-markers/2.0.2/leaflet.awesome-markers.js&quot;&gt;&lt;/script&gt;\n",
              "    &lt;link rel=&quot;stylesheet&quot; href=&quot;https://cdn.jsdelivr.net/npm/leaflet@1.9.3/dist/leaflet.css&quot;/&gt;\n",
              "    &lt;link rel=&quot;stylesheet&quot; href=&quot;https://cdn.jsdelivr.net/npm/bootstrap@5.2.2/dist/css/bootstrap.min.css&quot;/&gt;\n",
              "    &lt;link rel=&quot;stylesheet&quot; href=&quot;https://netdna.bootstrapcdn.com/bootstrap/3.0.0/css/bootstrap-glyphicons.css&quot;/&gt;\n",
              "    &lt;link rel=&quot;stylesheet&quot; href=&quot;https://cdn.jsdelivr.net/npm/@fortawesome/fontawesome-free@6.2.0/css/all.min.css&quot;/&gt;\n",
              "    &lt;link rel=&quot;stylesheet&quot; href=&quot;https://cdnjs.cloudflare.com/ajax/libs/Leaflet.awesome-markers/2.0.2/leaflet.awesome-markers.css&quot;/&gt;\n",
              "    &lt;link rel=&quot;stylesheet&quot; href=&quot;https://cdn.jsdelivr.net/gh/python-visualization/folium/folium/templates/leaflet.awesome.rotate.min.css&quot;/&gt;\n",
              "    \n",
              "            &lt;meta name=&quot;viewport&quot; content=&quot;width=device-width,\n",
              "                initial-scale=1.0, maximum-scale=1.0, user-scalable=no&quot; /&gt;\n",
              "            &lt;style&gt;\n",
              "                #map_a6efca731c7c7fa3a0867a89776a0bf2 {\n",
              "                    position: relative;\n",
              "                    width: 100.0%;\n",
              "                    height: 100.0%;\n",
              "                    left: 0.0%;\n",
              "                    top: 0.0%;\n",
              "                }\n",
              "                .leaflet-container { font-size: 1rem; }\n",
              "            &lt;/style&gt;\n",
              "        \n",
              "&lt;/head&gt;\n",
              "&lt;body&gt;\n",
              "    \n",
              "    \n",
              "            &lt;div class=&quot;folium-map&quot; id=&quot;map_a6efca731c7c7fa3a0867a89776a0bf2&quot; &gt;&lt;/div&gt;\n",
              "        \n",
              "&lt;/body&gt;\n",
              "&lt;script&gt;\n",
              "    \n",
              "    \n",
              "            var map_a6efca731c7c7fa3a0867a89776a0bf2 = L.map(\n",
              "                &quot;map_a6efca731c7c7fa3a0867a89776a0bf2&quot;,\n",
              "                {\n",
              "                    center: [10.319245019292454, -83.92278999043377],\n",
              "                    crs: L.CRS.EPSG3857,\n",
              "                    zoom: 10,\n",
              "                    zoomControl: true,\n",
              "                    preferCanvas: false,\n",
              "                }\n",
              "            );\n",
              "\n",
              "            \n",
              "\n",
              "        \n",
              "    \n",
              "            var tile_layer_bda08a1bd7643989aaf510e5bb3487f6 = L.tileLayer(\n",
              "                &quot;https://tile.openstreetmap.org/{z}/{x}/{y}.png&quot;,\n",
              "                {&quot;attribution&quot;: &quot;\\u0026copy; \\u003ca href=\\&quot;https://www.openstreetmap.org/copyright\\&quot;\\u003eOpenStreetMap\\u003c/a\\u003e contributors&quot;, &quot;detectRetina&quot;: false, &quot;maxNativeZoom&quot;: 19, &quot;maxZoom&quot;: 19, &quot;minZoom&quot;: 0, &quot;noWrap&quot;: false, &quot;opacity&quot;: 1, &quot;subdomains&quot;: &quot;abc&quot;, &quot;tms&quot;: false}\n",
              "            );\n",
              "        \n",
              "    \n",
              "            tile_layer_bda08a1bd7643989aaf510e5bb3487f6.addTo(map_a6efca731c7c7fa3a0867a89776a0bf2);\n",
              "        \n",
              "    \n",
              "            var marker_7557c8838cb03a88e71a414c986eda3c = L.marker(\n",
              "                [10.319245019292454, -83.92278999043377],\n",
              "                {}\n",
              "            ).addTo(map_a6efca731c7c7fa3a0867a89776a0bf2);\n",
              "        \n",
              "    \n",
              "            var icon_01c01bd2759d9746952f60662ce78b9c = L.AwesomeMarkers.icon(\n",
              "                {&quot;extraClasses&quot;: &quot;fa-rotate-0&quot;, &quot;icon&quot;: &quot;ok-sign&quot;, &quot;iconColor&quot;: &quot;white&quot;, &quot;markerColor&quot;: &quot;red&quot;, &quot;prefix&quot;: &quot;glyphicon&quot;}\n",
              "            );\n",
              "            marker_7557c8838cb03a88e71a414c986eda3c.setIcon(icon_01c01bd2759d9746952f60662ce78b9c);\n",
              "        \n",
              "    \n",
              "        var popup_ee9dfd1bccea7167007e37e0aea79ca4 = L.popup({&quot;maxWidth&quot;: &quot;100%&quot;});\n",
              "\n",
              "        \n",
              "            \n",
              "                var html_feb4d300e62af99cd048d7b5db37151b = $(`&lt;div id=&quot;html_feb4d300e62af99cd048d7b5db37151b&quot; style=&quot;width: 100.0%; height: 100.0%;&quot;&gt;Universidad Nacional, Campus Sarapiquí&lt;/div&gt;`)[0];\n",
              "                popup_ee9dfd1bccea7167007e37e0aea79ca4.setContent(html_feb4d300e62af99cd048d7b5db37151b);\n",
              "            \n",
              "        \n",
              "\n",
              "        marker_7557c8838cb03a88e71a414c986eda3c.bindPopup(popup_ee9dfd1bccea7167007e37e0aea79ca4)\n",
              "        ;\n",
              "\n",
              "        \n",
              "    \n",
              "    \n",
              "            var circle_4883b1de12707c9534af4e0b1b129703 = L.circle(\n",
              "                [10.319245019292454, -83.92278999043377],\n",
              "                {&quot;bubblingMouseEvents&quot;: true, &quot;color&quot;: &quot;blue&quot;, &quot;dashArray&quot;: null, &quot;dashOffset&quot;: null, &quot;fill&quot;: true, &quot;fillColor&quot;: &quot;purple&quot;, &quot;fillOpacity&quot;: 0.5, &quot;fillRule&quot;: &quot;evenodd&quot;, &quot;lineCap&quot;: &quot;round&quot;, &quot;lineJoin&quot;: &quot;round&quot;, &quot;opacity&quot;: 1.0, &quot;radius&quot;: 50, &quot;stroke&quot;: true, &quot;weight&quot;: 6}\n",
              "            ).addTo(map_a6efca731c7c7fa3a0867a89776a0bf2);\n",
              "        \n",
              "    \n",
              "            circle_4883b1de12707c9534af4e0b1b129703.bindTooltip(\n",
              "                `&lt;div&gt;\n",
              "                     Universidad Nacional, Campus Sarapiquí\n",
              "                 &lt;/div&gt;`,\n",
              "                {&quot;sticky&quot;: true}\n",
              "            );\n",
              "        \n",
              "&lt;/script&gt;\n",
              "&lt;/html&gt;\" style=\"position:absolute;width:100%;height:100%;left:0;top:0;border:none !important;\" allowfullscreen webkitallowfullscreen mozallowfullscreen></iframe></div></div>"
            ]
          },
          "metadata": {},
          "execution_count": 31
        }
      ]
    }
  ]
}